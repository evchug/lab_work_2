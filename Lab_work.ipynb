{
 "cells": [
  {
   "cell_type": "code",
   "execution_count": 26,
   "metadata": {},
   "outputs": [],
   "source": [
    "import requests\n",
    "from bs4 import BeautifulSoup\n",
    "import re\n",
    "from tqdm import tqdm"
   ]
  },
  {
   "cell_type": "code",
   "execution_count": 32,
   "metadata": {
    "scrolled": false
   },
   "outputs": [
    {
     "data": {
      "text/plain": [
       "['https://gazeta-vp.ru/v-volzhskom-vnov-proshyol-rejd-po-soblyudeniyu-masochnogo-rezhima/',\n",
       " 'https://gazeta-vp.ru/na-distanczionnom-obuchenii-nahodyatsya-ucheniki-treh-klassov-shkol-volzhskogo/',\n",
       " 'https://gazeta-vp.ru/v-volgogradskoj-oblasti-aktivizirovana-privivochnaya-kampaniya-ot-grippa/',\n",
       " 'https://gazeta-vp.ru/koronavirus-ot-bolezni-skonchalsya-eshhyo-odin-volzhanin/',\n",
       " 'https://gazeta-vp.ru/volzhanka-zahlamila-kvartiru-i-ne-dayot-prodohnut-sosedyam/',\n",
       " 'https://gazeta-vp.ru/volzhanam-rasskazali-chto-delat-pri-otravlenii-dymom/',\n",
       " 'https://gazeta-vp.ru/tonem-v-gryazi-i-boimsya-epidemii-volzhane-trebuyut-ot-rzhd-reshit-problemu-migrantov/',\n",
       " 'https://gazeta-vp.ru/ekspert-nazval-deficzit-vitamina-d-odnoj-iz-problem-pri-zarazhenii-koronavirusom/',\n",
       " 'https://gazeta-vp.ru/101-klass-i-6-shkol-ushli-na-karantin-v-volgogradskoj-oblasti/',\n",
       " 'https://gazeta-vp.ru/za-narushenie-sanitarnyh-norm-zapretili-rabotat-magazinu-v-volgograde/',\n",
       " 'https://gazeta-vp.ru/musor-i-krasota-v-redakczii-vp-posporili-na-temu-kto-dolzhen-delat-gorod-chishhe/',\n",
       " 'https://gazeta-vp.ru/v-volzhskoj-pravde-obsudili-sudbu-gorodskih-bibliotek/',\n",
       " 'https://gazeta-vp.ru/volzhane-vyyasnyali-est-li-u-goroda-arhitekturnoe-liczo/',\n",
       " 'https://gazeta-vp.ru/o-problemah-s-polivom-volzhane-soobshhayut-na-goryachuyu-liniyu/',\n",
       " 'https://gazeta-vp.ru/ni-cheshui-ni-hvosta-o-tom-kak-pravilno-rybachit-volzhanam-chtoby-ne-narushit-zakon/',\n",
       " 'https://gazeta-vp.ru/v-volgogradskoj-oblasti-v-chetverg-mezhvedomstvennye-patruli-vyyavili-150-narushenij-soblyudeniya-mer-bezopasnosti/',\n",
       " 'https://gazeta-vp.ru/putin-podpisal-zakon-ob-osvobozhdenii-ot-nalogov-novyh-organizaczij-msp-v-svyazi-s-pandemiej/',\n",
       " 'https://gazeta-vp.ru/v-volgogradskoj-oblasti-v-ramkah-kapremonta-otremontiruyut-700-domov/',\n",
       " 'https://gazeta-vp.ru/na-volzhskoj-ges-proizoshla-ocherednaya-smertelnaya-avariya/',\n",
       " 'https://gazeta-vp.ru/kradenoe-solncze-volgogradskij-teatr-pokazal-spektakl-na-mezhdunarodnom-festivale/',\n",
       " 'https://gazeta-vp.ru/31-dekabrya-2021-goda-v-rossii-budet-vyhodnym-dnyom/',\n",
       " 'https://gazeta-vp.ru/volzhanam-obyasnili-s-kakimi-simptomami-ih-dolzhny-gospitalizirovat/',\n",
       " 'https://gazeta-vp.ru/v-vyhodnye-v-volzhskom-projdet-bolshoj-rejd-gibdd/',\n",
       " 'https://gazeta-vp.ru/koronavirus-odnogo-iz-pogibshih-pytalis-spasti-v-volzhskoj-bolnicze/',\n",
       " 'https://gazeta-vp.ru/koronavirus-v-volgogradskoj-oblasti-iz-bolnicz-vypisalos-pochti-150-chelovek/',\n",
       " 'https://gazeta-vp.ru/v-volzhskom-zavershaetsya-ustanovka-novyh-liftov/',\n",
       " 'https://gazeta-vp.ru/zabolevaemost-covid-19-v-volzhskom-ne-snizhaetsya/',\n",
       " 'https://gazeta-vp.ru/zabolevaemost-covid-19-v-volzhskom-ne-snizhaetsya/#comments',\n",
       " 'https://gazeta-vp.ru/v-volzhskom-vnov-vyyavili-narushitelej-masochnogo-rezhima/',\n",
       " 'https://gazeta-vp.ru/v-volzhskom-vnov-vyyavili-narushitelej-masochnogo-rezhima/#comments',\n",
       " 'https://gazeta-vp.ru/v-volzhskom-vyyavlyayut-narushitelej-provoza-sypuchih-gruzov-2/',\n",
       " 'https://gazeta-vp.ru/pochti-52-tysyachi-volzhan-sdelali-privivku-ot-grippa/',\n",
       " 'https://gazeta-vp.ru/minzdrav-rasshirit-chislo-speczialnostej-dlya-distanczionnyh-konsultaczij/',\n",
       " 'https://gazeta-vp.ru/v-minprosveshheniya-nazvali-upravlyaemoj-epidemicheskuyu-situacziyu-v-rossijskih-shkolah/',\n",
       " 'https://gazeta-vp.ru/ostavshiesya-bez-raboty-iz-za-koronavirusa-volgogradczy-poluchat-novye-professii/',\n",
       " 'https://gazeta-vp.ru/bolee-polumilliona-zhitelej-volgogradskoj-oblasti-sdelali-privivku-ot-grippa/',\n",
       " 'https://gazeta-vp.ru/v-volzhskom-zavershaetsya-remont-dorogi-na-prospekte-metallugov/',\n",
       " 'https://gazeta-vp.ru/v-volzhskom-zavershaetsya-remont-dorogi-na-prospekte-metallugov/#comments',\n",
       " 'https://gazeta-vp.ru/v-volgograde-zaderzhali-terroristov-kotorye-hoteli-vzorvat-rodinu-mat/',\n",
       " 'https://gazeta-vp.ru/v-volgogradskoj-oblasti-prodolzhaetsya-vakczinacziya-ot-covid-19/',\n",
       " 'https://gazeta-vp.ru/deputat-gosdumy-irina-guseva-prodolzhaet-uchastvovat-v-akczii-blagodarnosti-medrabotnikam/',\n",
       " 'https://gazeta-vp.ru/o-zagadochnyh-kolyuchkah-i-negostepriimnyh-pristavah/',\n",
       " 'https://gazeta-vp.ru/o-zagadochnyh-kolyuchkah-i-negostepriimnyh-pristavah/#comments',\n",
       " 'https://gazeta-vp.ru/koronavirus-za-sutki-v-volgogradskoj-oblasti-bolezn-unesla-tri-zhizni/',\n",
       " 'https://gazeta-vp.ru/za-sutki-telefonnye-moshenniki-pohitili-u-zhitelej-volgogradskoj-oblasti-bolee-milliona-rublej/',\n",
       " 'https://gazeta-vp.ru/v-volzhskom-zhenshhinu-sbili-na-peshehodnom-perehode/',\n",
       " 'https://gazeta-vp.ru/volzhanin-zaderzhan-za-krazhu-v-torgovom-czentre/',\n",
       " 'https://gazeta-vp.ru/volzhskie-policzejskie-zakryli-igrovoj-klub/',\n",
       " 'https://gazeta-vp.ru/v-parke-volzhskij-prodolzhaetsya-obustrojstvo-zon-otdyha/',\n",
       " 'https://gazeta-vp.ru/volzhskih-dachnikov-shtrafuyut-za-kostry-3/',\n",
       " 'https://gazeta-vp.ru/volzhane-prodolzhayut-darit-gorodu-podarki/',\n",
       " 'https://gazeta-vp.ru/osuzhdennym-v-volzhskoj-kolonii-rasskazali-o-sobytiyah-grazhdanskoj-vojny/',\n",
       " 'https://gazeta-vp.ru/minekonomrazvitiya-rossii-15-oktyabrya-provedet-vebinar-po-teme-molodezhnogo-predprinimatelstva/',\n",
       " 'https://synergy.online/webinars/molodyezhnoe-predprinimatelstvo-tendentsii-iperspektivy-15-oktyabrya',\n",
       " 'https://gazeta-vp.ru/portal-otkrytyj-volzhskij-rasshiryaet-servisy/',\n",
       " 'https://play.google.com/store/apps/details?id=vlz.volzskydozor&hl=ru',\n",
       " 'https://gazeta-vp.ru/v-volzhskom-na-prospekte-lenina-prodolzhayutsya-dorozhnye-raboty/',\n",
       " 'https://gazeta-vp.ru/v-rossii-sozdano-lekarstvo-razrushayushhee-koronavirus/',\n",
       " 'https://gazeta-vp.ru/vladimir-putin-obyavil-o-registraczii-vtoroj-rossijskoj-vakcziny-ot-koronavirusa/',\n",
       " 'https://gazeta-vp.ru/volzhskie-dvory-opyat-stradayut-ot-vandalov/',\n",
       " 'https://gazeta-vp.ru/25-tanczevalnyh-kollektivov-regiona-zazhgli-radugu-nad-volgoj/',\n",
       " 'https://gazeta-vp.ru/volzhskie-serebryanye-volontery-prodolzhayut-realizacziyu-grantovyh-proektov/',\n",
       " 'https://gazeta-vp.ru/v-volzhskom-zaversheno-6-proektov-inicziativnogo-byudzhetirovaniya/',\n",
       " 'https://gazeta-vp.ru/na-volzhskih-sadovodov-sostavili-4-protokola-za-razvedenie-kostrov/',\n",
       " 'https://gazeta-vp.ru/nko-volzhskogo-mogut-poluchit-subsidii-na-organizacziyu-dopolnitelnogo-profobucheniya/',\n",
       " 'https://uprt.volgograd.ru/current-activity/cooperation/news/300084/',\n",
       " 'https://gazeta-vp.ru/deputat-gosdumy-irina-guseva-soobshhila-o-prinyatii-vazhnogo-zakonoproekta-reguliruyushhego-sferu-oplaty-kommunalnyh-uslug/',\n",
       " 'https://gazeta-vp.ru/koronavirus-v-volgogradskoj-oblasti-skonchalis-dvoe-pozhilyh-muzhchin/',\n",
       " 'https://gazeta-vp.ru/volzhane-rasskazali-kakaya-novost-bolshe-vsego-poradovala-ih-na-proshloj-nedele-2/',\n",
       " 'https://gazeta-vp.ru/volzhanam-poteryavshim-v-pozhare-dom-nuzhna-pomoshh/',\n",
       " 'https://gazeta-vp.ru/buket-so-sladostyami-stanet-idealnym-podarkom-dlya-sladkoezhki/',\n",
       " 'https://gazeta-vp.ru/buket-so-sladostyami-stanet-idealnym-podarkom-dlya-sladkoezhki/#comments',\n",
       " 'https://gazeta-vp.ru/minus-160-kilogrammov-na-chetveryh-volzhanki-rasskazali-kak-mozhno-pohudet-so-100-proczentnoj-garantiej/',\n",
       " 'https://gazeta-vp.ru/volzhanka-za-polgoda-skinula-50-kilogrammov-chtoby-vyzhit-i-ne-sobiraetsya-na-etom-ostanavlivatsya/',\n",
       " 'https://gazeta-vp.ru/v-rostrude-rasskazali-ob-osnovaniyah-dlya-vneplanovyh-proverok-vo-vremya-covid/',\n",
       " 'https://rg.ru/2020/10/12/v-rostrude-rasskazali-ob-osnovaniiah-dlia-vneplanovyh-proverok-vo-vremia-covid.html',\n",
       " 'https://gazeta-vp.ru/v-volgogradskoj-oblasti-v-ponedelnik-mezhvedomstvennye-patruli-vyyavili-160-narushenij-soblyudeniya-mer-bezopasnosti/',\n",
       " 'https://gazeta-vp.ru/v-volgogradskuyu-oblast-postupila-ocherednaya-partiya-vakcziny-ot-grippa/',\n",
       " 'https://gazeta-vp.ru/pervye-zhiteli-volgogradskoj-oblasti-provakczinirovany-ot-covid-19/',\n",
       " 'https://gazeta-vp.ru/andrej-bocharov-nasha-obshhaya-zadacha-sejchas-ne-dopustit-vzryvnogo-rosta-zabolevaemosti/',\n",
       " 'https://gazeta-vp.ru/andrej-turchak-byudzhet-poluchilsya-sbalansirovannym-i-napravlen-na-zabotu-o-lyudyah-ih-zashhitu-i-blagopoluchie/',\n",
       " 'https://gazeta-vp.ru/v-volzhskom-neskolko-klassov-pereveli-na-distant/',\n",
       " 'https://gazeta-vp.ru/koronavirus-v-volgogradskoj-oblasti-bolezn-unesla-chetyre-zhizni/',\n",
       " 'https://gazeta-vp.ru/v-volzhskom-na-festivale-kolokolnogo-zvona-semiletnij-vunderkind-iz-bronnicz-ispolnil-svoyu-improvizacziyu/',\n",
       " 'https://gazeta-vp.ru/v-volzhskom-v-festivale-kolokolnogo-zvona-pouchastvovali-15-zvonarej/',\n",
       " 'https://gazeta-vp.ru/vneshkor-volzhskoj-pravdy-pokazal-vse-kraski-oseni/',\n",
       " 'https://gazeta-vp.ru/volzhskie-kommunalshhiki-podderzhali-inspektorov-gibdd/',\n",
       " 'https://gazeta-vp.ru/v-volzhskom-proveryayut-obekty-torgovli-po-soblyudeniyu-masochnogo-rezhima/',\n",
       " 'https://gazeta-vp.ru/za-nedelyu-v-volzhskom-zafiksirovano-14-pozharov/',\n",
       " 'https://gazeta-vp.ru/vserossijskaya-nedelya-finansovoj-gramotnosti-projdet-v-onlajn-formate/',\n",
       " 'https://gazeta-vp.ru/volzhanam-pereschitayut-subsidii-na-oplatu-uslug-zhkh/',\n",
       " 'https://gazeta-vp.ru/v-volzhskij-postupila-novaya-dorozhnaya-specztehnika/',\n",
       " 'https://gazeta-vp.ru/v-volzhskom-nachalas-podacha-tepla-v-zhilye-doma/',\n",
       " 'https://gazeta-vp.ru/volgogradskij-muzej-gotovit-vystavku-nash-pervyj-gubernator/',\n",
       " 'https://gazeta-vp.ru/volzhane-mogut-napisat-totalnyj-diktant-onlajn/',\n",
       " 'https://gazeta-vp.ru/volzhanin-v-chisle-pervyh-sdelal-privivku-ot-koronavirusa/',\n",
       " 'https://gazeta-vp.ru/tempy-prirosta-zarazivshihsya-novoj-koronavirusnoj-infekcziej-v-volzhskom-vyrosli/',\n",
       " 'https://gazeta-vp.ru/volzhanin-dmitrij-shipovskij-pobedil-na-chempionate-yufo-po-boksu/',\n",
       " 'https://gazeta-vp.ru/sputnik-v-v-volgogradskuyu-oblast-postupila-pervaya-partiya-vakcziny-ot-koronavirusa/',\n",
       " 'https://gazeta-vp.ru/koronavirus-v-volzhskom-vyyavili-18-novyh-sluchaev-zabolevaniya/',\n",
       " 'https://gazeta-vp.ru/gubernator-volgogradskoj-oblasti-medpersonal-lechebnyh-uchrezhdenij-rabotaet-kruglosutochno/',\n",
       " 'https://gazeta-vp.ru/v-dekabre-volgogradczy-uvidyat-multkonczert-v-soprovozhdenii-simfonicheskogo-orkestra/']"
      ]
     },
     "execution_count": 32,
     "metadata": {},
     "output_type": "execute_result"
    }
   ],
   "source": [
    "urls = []\n",
    "start_url = 'https://gazeta-vp.ru/list/page'\n",
    "for x in range(1, 2516):\n",
    "    url = start_url + '/' + str(x)\n",
    "    urls.append(url)\n",
    "# создает список url всех страниц сайта\n",
    "    \n",
    "out = []\n",
    "for url in urls:\n",
    "    response = requests.get(url)\n",
    "    soup = BeautifulSoup(response.text)\n",
    "    for link in soup.find_all('a'):\n",
    "        elem = link.get('href')\n",
    "        if type(elem) == str:\n",
    "            out.append(elem)\n",
    "# выгружает все элементы с ссылками с каждой страницы\n",
    "            \n",
    "newslinks = []\n",
    "for link in out:\n",
    "    if len(str(link))>60 and 'openvlz' not in link and '#respond' not in link:\n",
    "        newslinks.append(link)\n",
    "newslinks = list(dict.fromkeys(newslinks))\n",
    "# создает список всех ссылок НА НОВОСТИ, фильтруя все остальное \n",
    "\n",
    "newslinks"
   ]
  },
  {
   "cell_type": "code",
   "execution_count": 44,
   "metadata": {},
   "outputs": [
    {
     "data": {
      "text/plain": [
       "'КультураОбразованиеВолжане могут написать «Тотальный диктант» онлайнОт Алексей Астахов - 13.10.2020 в 10:020290Facebook Twitter Pinterest WhatsApp  17 октября состоится традиционный «Тотальный диктант» для  всех желающих проверить свою грамотность. Написать диктант в этом году можно будет в трёх форматах, в том числе и онлайн.Поскольку эпидемиологические ограничения на проведение массовых мероприятий не сняты, в традиционном (очном) формате диктант пройдёт только на одной площадке – в\\xa0«Точке кипения – Волгоград»\\xa0(пр. им. В. И. Ленина, 28а). 50 счастливчиков, успевших зарегистрироваться здесь, получат возможность не только написать диктант под диктовку «живого» диктора, но и получить оценку. А участники, написавшие диктант на «5», получат традиционный Сертификат отличника.Также написать диктант можно в онлайн-формате в специальной форме, которая будет доступна 17 октября в 15-00 на сайте\\xa0https://totaldict.ru/. Так как текст, написанный в данной форме, сразу направляется на проверку, то участник вправе рассчитывать на оценку и сертификат, которые станут доступны после проверки в его личном кабинете.Кроме того предусмотрен формат #пишемдома. Для этого надо смотреть трансляцию на сайте totaldict.ru 17 октября в 15-00 и писать диктант от руки специальной ручкой Berlingo xGold на фирменном бланке «Тотального диктанта», то есть почти как на площадке, только дома. Разумеется, писать можно и своей ручкой, а специальный бланк скачать\\xa0и распечатать. Сертификаты отличника при формате #пишемдома не предусмотрены.Получить ручки и бланки можно в Волгоградской областной универсальной научной библиотеке им. М. Горького по адресу: ул. Мира, 15 в\\xa0режиме\\xa0работы библиотеки. Работы предстоит сдать с 18 по 21 октября  по тому же адресу: ул. Мира, 15. Затем будет организована проверка диктанта силами волгоградских филологов. После проверки результаты традиционно будут опубликованы на сайте totaldict.ru. Результат и свидетельство об участии станут доступны в личном кабинете участника.Также можно не сдавать диктант, а подождать онлайн-разбора текста на сайте totaldict.ru и самостоятельно себя проверить. Для этого не нужно регистрироваться на площадке #пишемдома, а зайти на главную страницу totaldict.ru за 10-15 минут до начала диктанта, чтобы успеть авторизоваться.Все вопросы можно задать координатору в Волгограде Светлане Солодковой по телефону 8-904-436-12-62 или E-mail:\\xa0vounb-m-gorkogo@yandex.ru«Тотальный диктант» – ежегодная акция для всех желающих независимо от возраста, национальности, уровня образования и социального статуса. Она показывает, что быть грамотным важно для каждого; что заниматься русским языком нелегко, но увлекательно и полезно; объединяет всех, кто умеет или хочет писать и говорить по-русски. В Волгограде акция проходит с 2014 года. Ежегодно количество участников увеличивается: если в первый год принял участие 221 человек, то в 2019 году – уже 587 человек. В 2019 году всех желающих проверить свой уровень грамотности ждали на 6 площадкахТЕГИонлайнпишем доматотальный диктантFacebook Twitter Pinterest WhatsApp  Предыдущая статьяВолжанин в числе первых сделал прививку от коронавирусаСледующая статьяВолгоградский музей готовит выставку «Наш первый губернатор»Алексей Астахов '"
      ]
     },
     "execution_count": 44,
     "metadata": {},
     "output_type": "execute_result"
    }
   ],
   "source": [
    "for link in newslinks:\n",
    "    rs = requests.get(link)\n",
    "    root = BeautifulSoup(rs.content, 'html.parser')\n",
    "    article = root.select_one('article')\n",
    "article.text"
   ]
  },
  {
   "cell_type": "code",
   "execution_count": null,
   "metadata": {},
   "outputs": [],
   "source": []
  }
 ],
 "metadata": {
  "kernelspec": {
   "display_name": "Python 3",
   "language": "python",
   "name": "python3"
  },
  "language_info": {
   "codemirror_mode": {
    "name": "ipython",
    "version": 3
   },
   "file_extension": ".py",
   "mimetype": "text/x-python",
   "name": "python",
   "nbconvert_exporter": "python",
   "pygments_lexer": "ipython3",
   "version": "3.7.5"
  }
 },
 "nbformat": 4,
 "nbformat_minor": 4
}
